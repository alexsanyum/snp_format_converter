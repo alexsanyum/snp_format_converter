{
 "cells": [
  {
   "cell_type": "code",
   "execution_count": null,
   "id": "03243a97-f4f2-417b-98dd-d543593a666d",
   "metadata": {},
   "outputs": [],
   "source": [
    "import pandas as pd\n",
    "import re\n",
    "import numpy as np\n",
    "def read_vcf(vcf_file, separator = '\\t'):\n",
    "    head_line = recognize_vcf_head(vcf_file)\n",
    "    vcf = pd.read_table(vcf_file, header = head_line, sep = separator)\n",
    "    vcf = vcf.set_index('ID')\n",
    "    vcf = vcf.drop(['QUAL', 'FILTER', 'INFO', 'FORMAT'], axis = 1)\n",
    "    locis = vcf.columns[4:]\n",
    "    for loci in locis:\n",
    "        vcf[loci] = vcf[loci].str.extract(r'([\\d\\.]/[\\d\\.]):*')\n",
    "    return vcf\n",
    "def vcf_to_genepop(vcf_file, popmap,genepop_name):\n",
    "\n",
    "    pop_map_dict = read_pop_map(popmap)\n",
    "    vcf = read_vcf(vcf_file)\n",
    "    locis = vcf.columns[4:]\n",
    "    for loci in locis:\n",
    "        rag = vcf['REF'] + vcf['ALT'] + vcf[loci]\n",
    "        vcf[loci] = rag.apply(change_num_to_base)\n",
    "\n",
    "    genepop = vcf\n",
    "    chrom_pos = vcf['#CHROM'].astype(str) + '_' +(vcf['POS']-1).astype(str) \n",
    "    genepop.insert(0,'CHROM_POS', chrom_pos)\n",
    "    genepop = genepop.drop(['REF','ALT','#CHROM', 'POS' ], axis = 1)\n",
    "    \n",
    "    for loci in locis:\n",
    "        genepop[loci] = genepop[loci].apply(change_base_to_genepop_number)\n",
    "    \n",
    "    genepop = genepop.T\n",
    "    genepop.columns = d.iloc[0]\n",
    "    genepop.head(1).to_csv(genepop_name, header = False, index  = False, sep  = '\\t')\n",
    "    for pop in pop_map_dict:\n",
    "        with open(genepop_name,'a') as f:\n",
    "            f.write('pop' + '\\n')\n",
    "            f.close()\n",
    "        genepop.loc[pop_map_dict[pop]].to_csv(genepop_name, \n",
    "                                               header = False, \n",
    "                                               index  = True, \n",
    "                                               sep  = '\\t', \n",
    "                                               mode = 'a')\n",
    "    print('File was generated')\n",
    "    return genepop\n",
    "\n",
    "\n",
    "def change_num_to_base(ref_alt_gen):\n",
    "    ref = ref_alt_gen[0]\n",
    "    alt = ref_alt_gen[1]\n",
    "    ref_alt_gen = ref_alt_gen.replace('0',ref)\n",
    "    ref_alt_gen = ref_alt_gen.replace('1',alt)\n",
    "    ref_alt_gen = ref_alt_gen.replace('/','')\n",
    "    return ref_alt_gen[2:]\n",
    "\n",
    "def change_base_to_genepop_number(genotype):\n",
    "    bases_dict = {'A':'01','T':'02','G':'03','C':'04','.':'00'}\n",
    "    genepop_code = ''\n",
    "    for base in genotype:\n",
    "        genepop_code += bases_dict[base]\n",
    "    return genepop_code\n",
    "        \n",
    "    \n",
    "def read_pop_map(popmap, separator = '\\t'):\n",
    "    popdf = pd.read_table(popmap, sep = separator, header = None)\n",
    "    popdf = popdf.drop_duplicates()\n",
    "    unique_pops = popdf[1].unique()\n",
    "    pop_dict = {}\n",
    "    for unique_pop in unique_pops:\n",
    "        pop_dict[unique_pop] =  popdf[popdf[1] == unique_pop][0].values.tolist()\n",
    "    return pop_dict\n",
    "def recognize_vcf_head(vcf_file):\n",
    "    with open(vcf_file) as file:\n",
    "        line = file.readline()\n",
    "        i = 0\n",
    "        while 'CHROM' not in line:\n",
    "            line = file.readline()\n",
    "            i += 1\n",
    "    return i\n"
   ]
  },
  {
   "cell_type": "code",
   "execution_count": null,
   "id": "0f3e96cd-3f20-4bc1-820a-983c46208c1d",
   "metadata": {},
   "outputs": [],
   "source": [
    "popmap = 'data_pop_map.txt'\n",
    "b = read_pop_map(popmap)"
   ]
  },
  {
   "cell_type": "code",
   "execution_count": null,
   "id": "86398d42-a7c3-4e07-8c9f-f03923d35e8d",
   "metadata": {},
   "outputs": [],
   "source": [
    "d = vcf_to_genepop('Xr-567.vcf','data_pop_map.txt','test1')"
   ]
  },
  {
   "cell_type": "code",
   "execution_count": null,
   "id": "ac4c60c1-31ed-417b-a576-3fc69d1e9f57",
   "metadata": {},
   "outputs": [],
   "source": [
    "read_pop_map('data_pop_map.txt')"
   ]
  },
  {
   "cell_type": "code",
   "execution_count": null,
   "id": "58fe8db0-ef67-4872-92fe-221591c2a268",
   "metadata": {},
   "outputs": [],
   "source": [
    "d.columns = d.iloc[0]\n",
    "d.loc['CHROM_POS'].to_csv('test', header = False, index  = False )"
   ]
  },
  {
   "cell_type": "code",
   "execution_count": null,
   "id": "1886ab19-250d-4b35-981b-08e9e5a68ed0",
   "metadata": {},
   "outputs": [],
   "source": [
    "d.loc['CHROM_POS']"
   ]
  },
  {
   "cell_type": "code",
   "execution_count": null,
   "id": "8c9a5bf8-cc97-408d-a219-2e2845fe12e5",
   "metadata": {},
   "outputs": [],
   "source": [
    "d.head(1).to_csv('test', header = False, index  = True, sep  = '\\t')"
   ]
  },
  {
   "cell_type": "code",
   "execution_count": 1,
   "id": "cacc0c16-c59f-46bd-883c-ad8096b3bca5",
   "metadata": {},
   "outputs": [],
   "source": [
    "import pandas as pd\n",
    "import re\n",
    "import numpy as np\n",
    "import csv\n",
    "def read_vcf(vcf_file, separator = '\\t'):\n",
    "    head_line = recognize_vcf_head(vcf_file)\n",
    "    vcf = pd.read_table(vcf_file, header = head_line, sep = separator)\n",
    "    vcf = vcf.set_index('ID')\n",
    "    vcf = vcf.drop(['QUAL', 'FILTER', 'INFO', 'FORMAT'], axis = 1)\n",
    "    locis = vcf.columns[4:]\n",
    "    for loci in locis:\n",
    "        vcf[loci] = vcf[loci].str.extract(r'([\\d\\.]/[\\d\\.]):*')\n",
    "    return vcf\n",
    "def vcf_to_genepop(vcf_file,ped_name):\n",
    "    \n",
    "    map_name = ped_name.split('.')[0] + '.map'\n",
    "    vcf = read_vcf(vcf_file)\n",
    "    locis = vcf.columns[4:]\n",
    "    for loci in locis:\n",
    "        rag = vcf['REF'] + vcf['ALT'] + vcf[loci]\n",
    "        vcf[loci] = rag.apply(change_num_to_base)\n",
    "\n",
    "    genepop = vcf\n",
    "    \n",
    "    #Generate ped map file\n",
    "    generate_ped_map(genepop[['#CHROM','POS']],map_name)\n",
    "    \n",
    "    chrom_pos = vcf['#CHROM'].astype(str) + '_' +(vcf['POS']-1).astype(str) \n",
    "    genepop.insert(0,'CHROM_POS', chrom_pos)\n",
    "    genepop = genepop.drop(['REF','ALT','#CHROM', 'POS' ], axis = 1)\n",
    "    \n",
    "    genepop = genepop.T\n",
    "    genepop.columns = genepop.iloc[0]\n",
    "    \n",
    "    #Change format to the ped format\n",
    "    genepop = genepop.drop('CHROM_POS')\n",
    "    genepop.insert(0,'CHROMPOS',genepop.index)\n",
    "    \n",
    "    zero_column = np.zeros(genepop.index.shape).astype(int)\n",
    "    for i in range (4):\n",
    "        genepop.insert(1,str(i),zero_column)\n",
    "    genepop.to_csv(ped_name, header = False, sep = '\\t')\n",
    "    \n",
    "    #The file add \" for every genotype, so we open the file and delete them\n",
    "    ped_file = open('ped_test')\n",
    "    new_text = ped_file.read()\n",
    "    new_text = new_text.replace('\"','')\n",
    "    ped_file.close()\n",
    "    ped_file = open('ped_test','w')\n",
    "    ped_file.write(new_text)\n",
    "    ped_file.close()\n",
    "    \n",
    "    print('Ped and map ped files were generated')\n",
    "    return genepop\n",
    "\n",
    "def generate_ped_map(chrom_pos,map_name):\n",
    "    zero_column = np.zeros(chrom_pos.index.shape).astype(int)\n",
    "    combined_column = chrom_pos['#CHROM'].astype(str) + ':' +(chrom_pos['POS']-1).astype(str)\n",
    "    chrom_pos.insert(1,'zero',zero_column)\n",
    "    chrom_pos.insert(1,'combined',combined_column)\n",
    "    chrom_pos.to_csv(map_name, header = False, sep  = '\\t', index = False)\n",
    "    \n",
    "    \n",
    "def change_num_to_base(ref_alt_gen):\n",
    "    ref = ref_alt_gen[0]\n",
    "    alt = ref_alt_gen[1]\n",
    "    ref_alt_gen = ref_alt_gen.replace('0',ref)\n",
    "    ref_alt_gen = ref_alt_gen.replace('1',alt)\n",
    "    ref_alt_gen = ref_alt_gen.replace('/','\\t')\n",
    "    ref_alt_gen = ref_alt_gen.replace('.','0')\n",
    "    return ref_alt_gen[2:]\n",
    "\n",
    "\n",
    "def recognize_vcf_head(vcf_file):\n",
    "    with open(vcf_file) as file:\n",
    "        line = file.readline()\n",
    "        i = 0\n",
    "        while 'CHROM' not in line:\n",
    "            line = file.readline()\n",
    "            i += 1\n",
    "    return i"
   ]
  },
  {
   "cell_type": "code",
   "execution_count": 2,
   "id": "4b6f1629-8dfa-469e-a78b-ea348ecfb783",
   "metadata": {},
   "outputs": [
    {
     "name": "stdout",
     "output_type": "stream",
     "text": [
      "Ped and map ped files were generated\n"
     ]
    }
   ],
   "source": [
    "a = vcf_to_genepop('Xr-567.vcf','ped_test')\n"
   ]
  },
  {
   "cell_type": "code",
   "execution_count": null,
   "id": "bf944660-8767-49e6-99b8-daf7c8b3ba1e",
   "metadata": {},
   "outputs": [],
   "source": []
  },
  {
   "cell_type": "code",
   "execution_count": null,
   "id": "2d71a2ff-d7b1-44c8-9131-103cc184d887",
   "metadata": {},
   "outputs": [],
   "source": []
  },
  {
   "cell_type": "code",
   "execution_count": null,
   "id": "27c69a34-0e83-4237-ab59-50007e25a0f3",
   "metadata": {},
   "outputs": [],
   "source": []
  }
 ],
 "metadata": {
  "kernelspec": {
   "display_name": "Python 3 (ipykernel)",
   "language": "python",
   "name": "python3"
  },
  "language_info": {
   "codemirror_mode": {
    "name": "ipython",
    "version": 3
   },
   "file_extension": ".py",
   "mimetype": "text/x-python",
   "name": "python",
   "nbconvert_exporter": "python",
   "pygments_lexer": "ipython3",
   "version": "3.9.7"
  }
 },
 "nbformat": 4,
 "nbformat_minor": 5
}
