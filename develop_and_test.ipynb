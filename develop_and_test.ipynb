{
 "cells": [
  {
   "cell_type": "code",
   "execution_count": 82,
   "id": "03243a97-f4f2-417b-98dd-d543593a666d",
   "metadata": {},
   "outputs": [],
   "source": [
    "import pandas as pd\n",
    "import re\n",
    "import numpy as np\n",
    "def read_vcf(vcf_file, separator = '\\t'):\n",
    "    head_line = recognize_vcf_head(vcf_file)\n",
    "    vcf = pd.read_table(vcf_file, header = head_line, sep = separator)\n",
    "    vcf = vcf.set_index('ID')\n",
    "    vcf = vcf.drop(['QUAL', 'FILTER', 'INFO', 'FORMAT'], axis = 1)\n",
    "    locis = vcf.columns[4:]\n",
    "    for loci in locis:\n",
    "        vcf[loci] = vcf[loci].str.extract(r'([\\d\\.]/[\\d\\.]):*')\n",
    "    return vcf\n",
    "def vcf_to_genepop(vcf_file, popmap,genepop_name):\n",
    "\n",
    "    pop_map_dict = read_pop_map(popmap)\n",
    "    vcf = read_vcf(vcf_file)\n",
    "    locis = vcf.columns[4:]\n",
    "    for loci in locis:\n",
    "        rag = vcf['REF'] + vcf['ALT'] + vcf[loci]\n",
    "        vcf[loci] = rag.apply(change_num_to_base)\n",
    "\n",
    "    genepop = vcf\n",
    "    chrom_pos = vcf['#CHROM'].astype(str) + '_' +(vcf['POS']-1).astype(str) \n",
    "    genepop.insert(0,'CHROM_POS', chrom_pos)\n",
    "    genepop = genepop.drop(['REF','ALT','#CHROM', 'POS' ], axis = 1)\n",
    "    \n",
    "    for loci in locis:\n",
    "        genepop[loci] = genepop[loci].apply(change_base_to_genepop_number)\n",
    "    \n",
    "    genepop = genepop.T\n",
    "    genepop.columns = d.iloc[0]\n",
    "    genepop.head(1).to_csv(genepop_name, header = False, index  = False, sep  = '\\t')\n",
    "    for pop in pop_map_dict:\n",
    "        with open(genepop_name,'a') as f:\n",
    "            f.write('pop' + '\\n')\n",
    "            f.close()\n",
    "        genepop.loc[pop_map_dict[pop]].to_csv(genepop_name, \n",
    "                                               header = False, \n",
    "                                               index  = True, \n",
    "                                               sep  = '\\t', \n",
    "                                               mode = 'a')\n",
    "    print('File was generated')\n",
    "    return genepop\n",
    "\n",
    "\n",
    "def change_num_to_base(ref_alt_gen):\n",
    "    ref = ref_alt_gen[0]\n",
    "    alt = ref_alt_gen[1]\n",
    "    ref_alt_gen = ref_alt_gen.replace('0',ref)\n",
    "    ref_alt_gen = ref_alt_gen.replace('1',alt)\n",
    "    ref_alt_gen = ref_alt_gen.replace('/','')\n",
    "    return ref_alt_gen[2:]\n",
    "\n",
    "def change_base_to_genepop_number(genotype):\n",
    "    bases_dict = {'A':'01','T':'02','G':'03','C':'04','.':'00'}\n",
    "    genepop_code = ''\n",
    "    for base in genotype:\n",
    "        genepop_code += bases_dict[base]\n",
    "    return genepop_code\n",
    "        \n",
    "    \n",
    "def read_pop_map(popmap, separator = '\\t'):\n",
    "    popdf = pd.read_table(popmap, sep = separator, header = None)\n",
    "    popdf = popdf.drop_duplicates()\n",
    "    unique_pops = popdf[1].unique()\n",
    "    pop_dict = {}\n",
    "    for unique_pop in unique_pops:\n",
    "        pop_dict[unique_pop] =  popdf[popdf[1] == unique_pop][0].values.tolist()\n",
    "    return pop_dict\n",
    "def recognize_vcf_head(vcf_file):\n",
    "    with open(vcf_file) as file:\n",
    "        line = file.readline()\n",
    "        i = 0\n",
    "        while 'CHROM' not in line:\n",
    "            line = file.readline()\n",
    "            i += 1\n",
    "    return i\n"
   ]
  },
  {
   "cell_type": "code",
   "execution_count": 83,
   "id": "0f3e96cd-3f20-4bc1-820a-983c46208c1d",
   "metadata": {},
   "outputs": [],
   "source": [
    "popmap = 'data_pop_map.txt'\n",
    "b = read_pop_map(popmap)"
   ]
  },
  {
   "cell_type": "code",
   "execution_count": 84,
   "id": "86398d42-a7c3-4e07-8c9f-f03923d35e8d",
   "metadata": {},
   "outputs": [
    {
     "name": "stdout",
     "output_type": "stream",
     "text": [
      "File was generated\n"
     ]
    }
   ],
   "source": [
    "d = vcf_to_genepop('Xr-567.vcf','data_pop_map.txt','test1')"
   ]
  },
  {
   "cell_type": "code",
   "execution_count": 80,
   "id": "ac4c60c1-31ed-417b-a576-3fc69d1e9f57",
   "metadata": {},
   "outputs": [
    {
     "name": "stderr",
     "output_type": "stream",
     "text": [
      "C:\\Users\\alexs\\AppData\\Local\\Temp/ipykernel_39796/1824311937.py:1: FutureWarning: In a future version of pandas all arguments of read_table except for the argument 'filepath_or_buffer' will be keyword-only\n",
      "  read_pop_map('data_pop_map.txt')\n"
     ]
    },
    {
     "data": {
      "text/plain": [
       "{1: ['Xr_SBI_12-2',\n",
       "  'Xr_SBI_26-4',\n",
       "  'Xr_SBI_28-4',\n",
       "  'Xr_SBI_29-4',\n",
       "  'Xr_SBI_30-4',\n",
       "  'Xr_SBI_31-4',\n",
       "  'Xr_SBI_32-4',\n",
       "  'Xr_SBI_33-4',\n",
       "  'Xr_SBI_37-5',\n",
       "  'Xr_SBI_38-5',\n",
       "  'Xr_SBI_39-5',\n",
       "  'Xr_SBI_41-5',\n",
       "  'Xr_SBI_44-5'],\n",
       " 2: ['Xr_SCL_02b-2',\n",
       "  'Xr_SCL_03',\n",
       "  'Xr_SCL_04',\n",
       "  'Xr_SCL_05-1',\n",
       "  'Xr_SCL_06',\n",
       "  'Xr_SCL_07-1',\n",
       "  'Xr_SCL_08',\n",
       "  'Xr_SCL_09',\n",
       "  'Xr_SCL_10',\n",
       "  'Xr_SCL_11',\n",
       "  'Xr_SCL_12',\n",
       "  'Xr_SCL_13',\n",
       "  'Xr_SCL_14',\n",
       "  'Xr_SCL_15-1',\n",
       "  'Xr_SCL_17',\n",
       "  'Xr_SCL_18',\n",
       "  'Xr_SCL_19',\n",
       "  'Xr_SCL_20',\n",
       "  'Xr_SCL_21',\n",
       "  'Xr_SCL_22',\n",
       "  'Xr_SCL_23',\n",
       "  'Xr_SCL_24',\n",
       "  'Xr_SCL_25',\n",
       "  'Xr_SCL_26',\n",
       "  'Xr_SCL_29-5',\n",
       "  'Xr_SCL_33-5',\n",
       "  'Xr_SCL_34-5',\n",
       "  'Xr_SCL_37-5',\n",
       "  'Xr_SCL_39-5',\n",
       "  'Xr_SCL_40-5',\n",
       "  'Xr_SCL_41-5',\n",
       "  'Xr_SCL_42-5'],\n",
       " 3: ['Xr_SNI_03',\n",
       "  'Xr_SNI_04',\n",
       "  'Xr_SNI_05',\n",
       "  'Xr_SNI_06',\n",
       "  'Xr_SNI_07',\n",
       "  'Xr_SNI_08',\n",
       "  'Xr_SNI_09',\n",
       "  'Xr_SNI_10',\n",
       "  'Xr_SNI_11',\n",
       "  'Xr_SNI_12',\n",
       "  'Xr_SNI_13',\n",
       "  'Xr_SNI_14',\n",
       "  'Xr_SNI_15',\n",
       "  'Xr_SNI_16',\n",
       "  'Xr_SNI_17',\n",
       "  'Xr_SNI_18',\n",
       "  'Xr_SNI_19',\n",
       "  'Xr_SNI_20',\n",
       "  'Xr_SNI_21',\n",
       "  'Xr_SNI_22',\n",
       "  'Xr_SNI_23',\n",
       "  'Xr_SNI_24',\n",
       "  'Xr_SNI_25',\n",
       "  'Xr_SNI_26',\n",
       "  'Xr_SNI_32-5',\n",
       "  'Xr_SNI_33-5',\n",
       "  'Xr_SNI_35-5',\n",
       "  'Xr_SNI_36-5',\n",
       "  'Xr_SNI_37-5',\n",
       "  'Xr_SNI_39-5',\n",
       "  'Xr_SNI_40-5',\n",
       "  'Xr_SNI_41-5',\n",
       "  'Xr_SNI_43-5',\n",
       "  'Xr_SNI_44-5',\n",
       "  'Xr_SNI_45-5',\n",
       "  'Xr_SNI_46-5',\n",
       "  'Xr_SNI_48-5'],\n",
       " 4: ['Xv_JTS_20-2', 'Xv_JTS_22-2']}"
      ]
     },
     "execution_count": 80,
     "metadata": {},
     "output_type": "execute_result"
    }
   ],
   "source": [
    "read_pop_map('data_pop_map.txt')"
   ]
  },
  {
   "cell_type": "code",
   "execution_count": 41,
   "id": "58fe8db0-ef67-4872-92fe-221591c2a268",
   "metadata": {},
   "outputs": [],
   "source": [
    "d.columns = d.iloc[0]\n",
    "d.loc['CHROM_POS'].to_csv('test', header = False, index  = False )"
   ]
  },
  {
   "cell_type": "code",
   "execution_count": 42,
   "id": "1886ab19-250d-4b35-981b-08e9e5a68ed0",
   "metadata": {},
   "outputs": [
    {
     "data": {
      "text/plain": [
       "CHROM_POS\n",
       "43806_70        43806_70\n",
       "43978_60        43978_60\n",
       "44472_7          44472_7\n",
       "44672_60        44672_60\n",
       "44728_20        44728_20\n",
       "                 ...    \n",
       "1422564_83    1422564_83\n",
       "1422973_66    1422973_66\n",
       "1428956_26    1428956_26\n",
       "1437671_62    1437671_62\n",
       "1474931_50    1474931_50\n",
       "Name: CHROM_POS, Length: 1473, dtype: object"
      ]
     },
     "execution_count": 42,
     "metadata": {},
     "output_type": "execute_result"
    }
   ],
   "source": [
    "d.loc['CHROM_POS']"
   ]
  },
  {
   "cell_type": "code",
   "execution_count": 48,
   "id": "8c9a5bf8-cc97-408d-a219-2e2845fe12e5",
   "metadata": {},
   "outputs": [],
   "source": [
    "d.head(1).to_csv('test', header = False, index  = True, sep  = '\\t')"
   ]
  },
  {
   "cell_type": "code",
   "execution_count": 89,
   "id": "6a345871-7925-4294-9fd0-246bfa775ea7",
   "metadata": {},
   "outputs": [
    {
     "name": "stdout",
     "output_type": "stream",
     "text": [
      "Windows Subsystem for Linux has no installed distributions.\n",
      "Distributions can be installed by visiting the Microsoft Store:\n",
      "https://aka.ms/wslstore\n"
     ]
    },
    {
     "ename": "CalledProcessError",
     "evalue": "Command 'b'ls -l\\n'' returned non-zero exit status 1.",
     "output_type": "error",
     "traceback": [
      "\u001b[1;31m---------------------------------------------------------------------------\u001b[0m",
      "\u001b[1;31mCalledProcessError\u001b[0m                        Traceback (most recent call last)",
      "\u001b[1;32m~\\AppData\\Local\\Temp/ipykernel_39796/3470733920.py\u001b[0m in \u001b[0;36m<module>\u001b[1;34m\u001b[0m\n\u001b[1;32m----> 1\u001b[1;33m \u001b[0mget_ipython\u001b[0m\u001b[1;33m(\u001b[0m\u001b[1;33m)\u001b[0m\u001b[1;33m.\u001b[0m\u001b[0mrun_cell_magic\u001b[0m\u001b[1;33m(\u001b[0m\u001b[1;34m'bash'\u001b[0m\u001b[1;33m,\u001b[0m \u001b[1;34m''\u001b[0m\u001b[1;33m,\u001b[0m \u001b[1;34m'ls -l\\n'\u001b[0m\u001b[1;33m)\u001b[0m\u001b[1;33m\u001b[0m\u001b[1;33m\u001b[0m\u001b[0m\n\u001b[0m",
      "\u001b[1;32m~\\anaconda3\\lib\\site-packages\\IPython\\core\\interactiveshell.py\u001b[0m in \u001b[0;36mrun_cell_magic\u001b[1;34m(self, magic_name, line, cell)\u001b[0m\n\u001b[0;32m   2404\u001b[0m             \u001b[1;32mwith\u001b[0m \u001b[0mself\u001b[0m\u001b[1;33m.\u001b[0m\u001b[0mbuiltin_trap\u001b[0m\u001b[1;33m:\u001b[0m\u001b[1;33m\u001b[0m\u001b[1;33m\u001b[0m\u001b[0m\n\u001b[0;32m   2405\u001b[0m                 \u001b[0margs\u001b[0m \u001b[1;33m=\u001b[0m \u001b[1;33m(\u001b[0m\u001b[0mmagic_arg_s\u001b[0m\u001b[1;33m,\u001b[0m \u001b[0mcell\u001b[0m\u001b[1;33m)\u001b[0m\u001b[1;33m\u001b[0m\u001b[1;33m\u001b[0m\u001b[0m\n\u001b[1;32m-> 2406\u001b[1;33m                 \u001b[0mresult\u001b[0m \u001b[1;33m=\u001b[0m \u001b[0mfn\u001b[0m\u001b[1;33m(\u001b[0m\u001b[1;33m*\u001b[0m\u001b[0margs\u001b[0m\u001b[1;33m,\u001b[0m \u001b[1;33m**\u001b[0m\u001b[0mkwargs\u001b[0m\u001b[1;33m)\u001b[0m\u001b[1;33m\u001b[0m\u001b[1;33m\u001b[0m\u001b[0m\n\u001b[0m\u001b[0;32m   2407\u001b[0m             \u001b[1;32mreturn\u001b[0m \u001b[0mresult\u001b[0m\u001b[1;33m\u001b[0m\u001b[1;33m\u001b[0m\u001b[0m\n\u001b[0;32m   2408\u001b[0m \u001b[1;33m\u001b[0m\u001b[0m\n",
      "\u001b[1;32m~\\anaconda3\\lib\\site-packages\\IPython\\core\\magics\\script.py\u001b[0m in \u001b[0;36mnamed_script_magic\u001b[1;34m(line, cell)\u001b[0m\n\u001b[0;32m    140\u001b[0m             \u001b[1;32melse\u001b[0m\u001b[1;33m:\u001b[0m\u001b[1;33m\u001b[0m\u001b[1;33m\u001b[0m\u001b[0m\n\u001b[0;32m    141\u001b[0m                 \u001b[0mline\u001b[0m \u001b[1;33m=\u001b[0m \u001b[0mscript\u001b[0m\u001b[1;33m\u001b[0m\u001b[1;33m\u001b[0m\u001b[0m\n\u001b[1;32m--> 142\u001b[1;33m             \u001b[1;32mreturn\u001b[0m \u001b[0mself\u001b[0m\u001b[1;33m.\u001b[0m\u001b[0mshebang\u001b[0m\u001b[1;33m(\u001b[0m\u001b[0mline\u001b[0m\u001b[1;33m,\u001b[0m \u001b[0mcell\u001b[0m\u001b[1;33m)\u001b[0m\u001b[1;33m\u001b[0m\u001b[1;33m\u001b[0m\u001b[0m\n\u001b[0m\u001b[0;32m    143\u001b[0m \u001b[1;33m\u001b[0m\u001b[0m\n\u001b[0;32m    144\u001b[0m         \u001b[1;31m# write a basic docstring:\u001b[0m\u001b[1;33m\u001b[0m\u001b[1;33m\u001b[0m\u001b[0m\n",
      "\u001b[1;32m~\\anaconda3\\lib\\site-packages\\decorator.py\u001b[0m in \u001b[0;36mfun\u001b[1;34m(*args, **kw)\u001b[0m\n\u001b[0;32m    230\u001b[0m             \u001b[1;32mif\u001b[0m \u001b[1;32mnot\u001b[0m \u001b[0mkwsyntax\u001b[0m\u001b[1;33m:\u001b[0m\u001b[1;33m\u001b[0m\u001b[1;33m\u001b[0m\u001b[0m\n\u001b[0;32m    231\u001b[0m                 \u001b[0margs\u001b[0m\u001b[1;33m,\u001b[0m \u001b[0mkw\u001b[0m \u001b[1;33m=\u001b[0m \u001b[0mfix\u001b[0m\u001b[1;33m(\u001b[0m\u001b[0margs\u001b[0m\u001b[1;33m,\u001b[0m \u001b[0mkw\u001b[0m\u001b[1;33m,\u001b[0m \u001b[0msig\u001b[0m\u001b[1;33m)\u001b[0m\u001b[1;33m\u001b[0m\u001b[1;33m\u001b[0m\u001b[0m\n\u001b[1;32m--> 232\u001b[1;33m             \u001b[1;32mreturn\u001b[0m \u001b[0mcaller\u001b[0m\u001b[1;33m(\u001b[0m\u001b[0mfunc\u001b[0m\u001b[1;33m,\u001b[0m \u001b[1;33m*\u001b[0m\u001b[1;33m(\u001b[0m\u001b[0mextras\u001b[0m \u001b[1;33m+\u001b[0m \u001b[0margs\u001b[0m\u001b[1;33m)\u001b[0m\u001b[1;33m,\u001b[0m \u001b[1;33m**\u001b[0m\u001b[0mkw\u001b[0m\u001b[1;33m)\u001b[0m\u001b[1;33m\u001b[0m\u001b[1;33m\u001b[0m\u001b[0m\n\u001b[0m\u001b[0;32m    233\u001b[0m     \u001b[0mfun\u001b[0m\u001b[1;33m.\u001b[0m\u001b[0m__name__\u001b[0m \u001b[1;33m=\u001b[0m \u001b[0mfunc\u001b[0m\u001b[1;33m.\u001b[0m\u001b[0m__name__\u001b[0m\u001b[1;33m\u001b[0m\u001b[1;33m\u001b[0m\u001b[0m\n\u001b[0;32m    234\u001b[0m     \u001b[0mfun\u001b[0m\u001b[1;33m.\u001b[0m\u001b[0m__doc__\u001b[0m \u001b[1;33m=\u001b[0m \u001b[0mfunc\u001b[0m\u001b[1;33m.\u001b[0m\u001b[0m__doc__\u001b[0m\u001b[1;33m\u001b[0m\u001b[1;33m\u001b[0m\u001b[0m\n",
      "\u001b[1;32m~\\anaconda3\\lib\\site-packages\\IPython\\core\\magic.py\u001b[0m in \u001b[0;36m<lambda>\u001b[1;34m(f, *a, **k)\u001b[0m\n\u001b[0;32m    185\u001b[0m     \u001b[1;31m# but it's overkill for just that one bit of state.\u001b[0m\u001b[1;33m\u001b[0m\u001b[1;33m\u001b[0m\u001b[0m\n\u001b[0;32m    186\u001b[0m     \u001b[1;32mdef\u001b[0m \u001b[0mmagic_deco\u001b[0m\u001b[1;33m(\u001b[0m\u001b[0marg\u001b[0m\u001b[1;33m)\u001b[0m\u001b[1;33m:\u001b[0m\u001b[1;33m\u001b[0m\u001b[1;33m\u001b[0m\u001b[0m\n\u001b[1;32m--> 187\u001b[1;33m         \u001b[0mcall\u001b[0m \u001b[1;33m=\u001b[0m \u001b[1;32mlambda\u001b[0m \u001b[0mf\u001b[0m\u001b[1;33m,\u001b[0m \u001b[1;33m*\u001b[0m\u001b[0ma\u001b[0m\u001b[1;33m,\u001b[0m \u001b[1;33m**\u001b[0m\u001b[0mk\u001b[0m\u001b[1;33m:\u001b[0m \u001b[0mf\u001b[0m\u001b[1;33m(\u001b[0m\u001b[1;33m*\u001b[0m\u001b[0ma\u001b[0m\u001b[1;33m,\u001b[0m \u001b[1;33m**\u001b[0m\u001b[0mk\u001b[0m\u001b[1;33m)\u001b[0m\u001b[1;33m\u001b[0m\u001b[1;33m\u001b[0m\u001b[0m\n\u001b[0m\u001b[0;32m    188\u001b[0m \u001b[1;33m\u001b[0m\u001b[0m\n\u001b[0;32m    189\u001b[0m         \u001b[1;32mif\u001b[0m \u001b[0mcallable\u001b[0m\u001b[1;33m(\u001b[0m\u001b[0marg\u001b[0m\u001b[1;33m)\u001b[0m\u001b[1;33m:\u001b[0m\u001b[1;33m\u001b[0m\u001b[1;33m\u001b[0m\u001b[0m\n",
      "\u001b[1;32m~\\anaconda3\\lib\\site-packages\\IPython\\core\\magics\\script.py\u001b[0m in \u001b[0;36mshebang\u001b[1;34m(self, line, cell)\u001b[0m\n\u001b[0;32m    243\u001b[0m             \u001b[0msys\u001b[0m\u001b[1;33m.\u001b[0m\u001b[0mstderr\u001b[0m\u001b[1;33m.\u001b[0m\u001b[0mflush\u001b[0m\u001b[1;33m(\u001b[0m\u001b[1;33m)\u001b[0m\u001b[1;33m\u001b[0m\u001b[1;33m\u001b[0m\u001b[0m\n\u001b[0;32m    244\u001b[0m         \u001b[1;32mif\u001b[0m \u001b[0margs\u001b[0m\u001b[1;33m.\u001b[0m\u001b[0mraise_error\u001b[0m \u001b[1;32mand\u001b[0m \u001b[0mp\u001b[0m\u001b[1;33m.\u001b[0m\u001b[0mreturncode\u001b[0m\u001b[1;33m!=\u001b[0m\u001b[1;36m0\u001b[0m\u001b[1;33m:\u001b[0m\u001b[1;33m\u001b[0m\u001b[1;33m\u001b[0m\u001b[0m\n\u001b[1;32m--> 245\u001b[1;33m             \u001b[1;32mraise\u001b[0m \u001b[0mCalledProcessError\u001b[0m\u001b[1;33m(\u001b[0m\u001b[0mp\u001b[0m\u001b[1;33m.\u001b[0m\u001b[0mreturncode\u001b[0m\u001b[1;33m,\u001b[0m \u001b[0mcell\u001b[0m\u001b[1;33m,\u001b[0m \u001b[0moutput\u001b[0m\u001b[1;33m=\u001b[0m\u001b[0mout\u001b[0m\u001b[1;33m,\u001b[0m \u001b[0mstderr\u001b[0m\u001b[1;33m=\u001b[0m\u001b[0merr\u001b[0m\u001b[1;33m)\u001b[0m\u001b[1;33m\u001b[0m\u001b[1;33m\u001b[0m\u001b[0m\n\u001b[0m\u001b[0;32m    246\u001b[0m \u001b[1;33m\u001b[0m\u001b[0m\n\u001b[0;32m    247\u001b[0m     \u001b[1;32mdef\u001b[0m \u001b[0m_run_script\u001b[0m\u001b[1;33m(\u001b[0m\u001b[0mself\u001b[0m\u001b[1;33m,\u001b[0m \u001b[0mp\u001b[0m\u001b[1;33m,\u001b[0m \u001b[0mcell\u001b[0m\u001b[1;33m,\u001b[0m \u001b[0mto_close\u001b[0m\u001b[1;33m)\u001b[0m\u001b[1;33m:\u001b[0m\u001b[1;33m\u001b[0m\u001b[1;33m\u001b[0m\u001b[0m\n",
      "\u001b[1;31mCalledProcessError\u001b[0m: Command 'b'ls -l\\n'' returned non-zero exit status 1."
     ]
    }
   ],
   "source": [
    "%%bash\n",
    "ls -l"
   ]
  },
  {
   "cell_type": "code",
   "execution_count": null,
   "id": "cacc0c16-c59f-46bd-883c-ad8096b3bca5",
   "metadata": {},
   "outputs": [],
   "source": []
  }
 ],
 "metadata": {
  "kernelspec": {
   "display_name": "Python 3 (ipykernel)",
   "language": "python",
   "name": "python3"
  },
  "language_info": {
   "codemirror_mode": {
    "name": "ipython",
    "version": 3
   },
   "file_extension": ".py",
   "mimetype": "text/x-python",
   "name": "python",
   "nbconvert_exporter": "python",
   "pygments_lexer": "ipython3",
   "version": "3.9.7"
  }
 },
 "nbformat": 4,
 "nbformat_minor": 5
}
